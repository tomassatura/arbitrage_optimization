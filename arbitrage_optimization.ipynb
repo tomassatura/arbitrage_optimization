{
 "cells": [
  {
   "cell_type": "markdown",
   "id": "0864f169",
   "metadata": {},
   "source": [
    "# Battery Arbitrage Optimization"
   ]
  },
  {
   "cell_type": "markdown",
   "id": "7f75c66c",
   "metadata": {},
   "source": [
    "## Solution Overview"
   ]
  },
  {
   "cell_type": "markdown",
   "id": "e4b08bbf",
   "metadata": {},
   "source": [
    "The task is to optimize revenue generation from performing of energy arbitrage. The approach used in this solution will follow maximizing of profit that is given as a difference between revenue and cost. It is assumed that both revenue and cost only arise from settlements on day ahead market, hence neglecting any further incurred costs (e.g. distribution, fees), as well as other CapEx and OpEx costs. The objective function will thus be given by:\n",
    "\n",
    "\\begin{equation}\n",
    "\\begin{array}{rrcll}\n",
    "\\displaystyle \\max_{P_{in}, P_{out}} & NP \\\\\n",
    "\\textrm{s.t.} & NP & = & \\displaystyle  \\sum_{t=0}^{t_{max}} c(t) * \\left( \\frac{P_{in} (t)}{\\mathrm{eff}_{in}} - P_{out} (t) * \\mathrm{eff}_{out} \\right) & \\mathrm{\\left( con1 \\right)}\\\\\n",
    "\\end{array}\n",
    "\\end{equation}\n",
    "\n",
    "where $NP$ denotes profit/net profit, $P_{in}, P_{out}$ denote power charged and discharged respectively with their corresponding efficiencies $\\mathrm{eff}_{in}, \\mathrm{eff}_{out}$ and $c(t)$ vector of costs. The variables are indexed by timestamps $t$. Note, that although $\\mathrm{eff}_{in}, \\mathrm{eff}_{out}$ are not given in the problem, I believe at least one of the pair is needed, so as to deduce the other using round-trip efficiency $\\mathrm{eff}_{rt}$ from $\\mathrm{eff}_{rt} = \\mathrm{eff}_{in} * \\mathrm{eff}_{out}$"
   ]
  },
  {
   "cell_type": "markdown",
   "id": "617d6e0b",
   "metadata": {},
   "source": [
    "Charging and discharging is limited by:\n",
    "\n",
    "\\begin{equation}\n",
    "\\begin{array}{rrcl}\n",
    "& P_{in} & <= & \\displaystyle  C(t) * P_{in.max}  & \\mathrm{\\left( con2 \\right)}\\\\\n",
    "& P_{out} & <= & \\displaystyle  D(t) * P_{out.max}  & \\mathrm{\\left( con3 \\right)}\\\\\n",
    "\\end{array}\n",
    "\\end{equation}\n",
    "\n",
    "where C and D are binary indicators of whether charging or discharging occurs at $t$, and $P_{in.max}, P_{out.max}$ are maximum charging and discharging limits. Daily discharged energy is also limited by:\n",
    "\n",
    "\\begin{equation}\n",
    "\\begin{array}{rrcl}\n",
    "& \\displaystyle  \\sum_{t=0}^{t_{max}} T * P_{out}(t) & <= & W_{out.max} & \\mathrm{\\left( con4 \\right)}\\\\\n",
    "\\end{array}\n",
    "\\end{equation}\n",
    "\n",
    "where T is period length of time resolution used in the model and $W_{out.max}$ is the daily energy discharge limit. "
   ]
  },
  {
   "cell_type": "markdown",
   "id": "1d5bed24",
   "metadata": {},
   "source": [
    "Even though this is an idealized scenario, one does not simply escape almighty energy conservation law. This is expressed through its effect on state of charge (soc) as:\n",
    "\n",
    "\\begin{equation}\n",
    "\\begin{array}{rrcl}\n",
    "& \\mathrm{soc}(t) & = & \\mathrm{soc}(t - 1) + T * \\frac{P_{in}(t) - P_{out}(t)}{B_{cap}} & \\mathrm{\\left( con5 \\right)}\\\\\n",
    "\\end{array}\n",
    "\\end{equation}\n",
    "\n",
    "with $B_{cap}$ used to denote battery capacity. $\\mathrm{soc}$ is initialized with its initial value. Lastly, a restriction is imposed to prevent both charging and discharging occurring at the same time:\n",
    "\n",
    "\\begin{equation}\n",
    "\\begin{array}{rrcl}\n",
    "& C(t) + D(t) & <= & 1 & \\mathrm{\\left( con6 \\right)}\\\\\n",
    "\\end{array}\n",
    "\\end{equation}"
   ]
  },
  {
   "cell_type": "markdown",
   "id": "f4316647",
   "metadata": {},
   "source": [
    "Domains of the variables are as follows:\n",
    "\n",
    "\\begin{equation}\n",
    "\\begin{array}{rcccl}\n",
    "C(t), D(t) & \\in & \\{0, 1\\} \\\\\n",
    "1 - \\mathrm{dod}_{max} & <= & \\mathrm{soc}(t) & <= & 1 \\\\\n",
    "P_{in}, P_{out} & >= & 0 \\\\\n",
    "NP & \\in & \\mathbb{R} \\\\\n",
    "\\end{array}\n",
    "\\end{equation}\n",
    "\n",
    "where $\\mathrm{dod}_{max}$ is the (maximum) depth of discharge."
   ]
  },
  {
   "cell_type": "markdown",
   "id": "a9293c4a",
   "metadata": {},
   "source": [
    "The formulation can be solved using a MILP solver. In this example, the solution is performed on a set of $$ t \\in \\{0, 1, 2 ..., 23\\} $$ for a single selected day, leading to a computationally inexpensive solution. Note, that with added complexity, the problem could become significantly more expensive. One of the ways to obtain solution in real time then could be to drop $C(t), D(t)$ and handle the $\\mathrm{\\left( con6 \\right)}$ constraint in postprocessing (i.e. if both charging and discharging occurs, one can take the difference of the two as indication of how much energy is to be charged/discharged."
   ]
  },
  {
   "cell_type": "markdown",
   "id": "cd2be2c4",
   "metadata": {},
   "source": [
    "Vector of costs $c(t)$ is obtained as a vector of LBMP values for the required zone (N.Y.C.) averaged over the size of bins (given by the required resolution)."
   ]
  },
  {
   "cell_type": "markdown",
   "id": "083b01a6",
   "metadata": {},
   "source": [
    "As for further inputs to improve the optimization, I would suggest supplying one of the already mentioned pair $\\mathrm{eff}_{in}, \\mathrm{eff}_{out}$ on top of $\\mathrm{eff}_{rt}$. Furthermore, the model can be made more realistic by considering physical phenomena such as reaction/ramp-up time, business realities such as other associated costs etc. A solution with higher average gain per day can be obtained by widening the scope of the problem to use the optimization on horizon greater than one day. Some other constraints are often provided regarding scheduling, such as minimum time between charging and discharging, minimum uninterrupted runtime or threshold price over which/under which the system does not buy/sell."
   ]
  },
  {
   "cell_type": "markdown",
   "id": "7aba758b",
   "metadata": {},
   "source": [
    "The following code solves the problem using pyomo and glpk solver. The required results are summarized in the end of the notebook. "
   ]
  },
  {
   "cell_type": "markdown",
   "id": "52f4ce8b",
   "metadata": {},
   "source": [
    "## Code"
   ]
  },
  {
   "cell_type": "code",
   "execution_count": 1,
   "id": "b700f705",
   "metadata": {},
   "outputs": [],
   "source": [
    "import datetime\n",
    "import time\n",
    "import os\n",
    "\n",
    "import numpy as np\n",
    "import pyomo.environ as pyo\n",
    "\n",
    "import expressions\n",
    "from utils import get_prices, sample_to_time"
   ]
  },
  {
   "cell_type": "markdown",
   "id": "73070376",
   "metadata": {},
   "source": [
    "### Inputs"
   ]
  },
  {
   "cell_type": "code",
   "execution_count": 2,
   "id": "3928f9db",
   "metadata": {},
   "outputs": [],
   "source": [
    "# data-specific inputs\n",
    "resolution = 0.5  # hours\n",
    "data_args = {\n",
    "    'req_date': datetime.datetime(2022, 8, 6),\n",
    "    'data_dir': 'data/',\n",
    "    'zone': 'N.Y.C.',\n",
    "    'resolution': resolution,\n",
    "    'exp_date_format': '%Y%m%d',\n",
    "    'date_col': 'Time Stamp',\n",
    "    'zone_col': 'Name',\n",
    "    'cost_col': 'LBMP'\n",
    "}"
   ]
  },
  {
   "cell_type": "code",
   "execution_count": 3,
   "id": "9dd8740a",
   "metadata": {},
   "outputs": [],
   "source": [
    "# battery asset properties\n",
    "max_charge_power = 100  # kW\n",
    "max_discharge_power = 100  # kW\n",
    "discharge_ener_cap = 200  # kWh\n",
    "max_daily_discharge = 200  # kWh\n",
    "depth_of_discharge = 1  # fraction\n",
    "state_of_charge_init = 0  # fraction\n",
    "eff_rt = 0.85  # fraction\n",
    "eff_in = 0.9  # fraction"
   ]
  },
  {
   "cell_type": "code",
   "execution_count": 4,
   "id": "9137e958",
   "metadata": {},
   "outputs": [],
   "source": [
    "# default and derived ipupts\n",
    "solver = 'glpk'\n",
    "time_frame_length = 24  # hours\n",
    "min_daily_sell_volume = 0  # kWh\n",
    "min_daily_buy_volume = 0  # kWh\n",
    "min_charge_power = 0  # kW\n",
    "min_discharge_power = 0  # kW\n",
    "time_samples = int(time_frame_length / resolution)\n",
    "eff_out = eff_rt / eff_in"
   ]
  },
  {
   "cell_type": "code",
   "execution_count": 5,
   "id": "9fa96fbd",
   "metadata": {},
   "outputs": [],
   "source": [
    "model = pyo.ConcreteModel(\n",
    "    name='battery model'\n",
    ")"
   ]
  },
  {
   "cell_type": "markdown",
   "id": "1a1c0e8e",
   "metadata": {},
   "source": [
    "### Sets"
   ]
  },
  {
   "cell_type": "code",
   "execution_count": 6,
   "id": "58e784e2",
   "metadata": {},
   "outputs": [],
   "source": [
    "model.samples = pyo.Set(\n",
    "    initialize=np.arange(time_samples), \n",
    "    doc='time samples'\n",
    ")"
   ]
  },
  {
   "cell_type": "markdown",
   "id": "1b8c50da",
   "metadata": {},
   "source": [
    "### Parameters"
   ]
  },
  {
   "cell_type": "markdown",
   "id": "692e1a93",
   "metadata": {},
   "source": [
    "#### Costs"
   ]
  },
  {
   "cell_type": "code",
   "execution_count": 7,
   "id": "0d1d5d38",
   "metadata": {},
   "outputs": [],
   "source": [
    "c = get_prices(**data_args)\n",
    "# the costs need to be adjusted to $/kWh basis\n",
    "c /= 1e3\n",
    "c = c.rename('LBMP in $/kWh')\n",
    "model.c = pyo.Param(\n",
    "    model.samples, \n",
    "    initialize=c.to_numpy(),\n",
    "    doc='energy costs'\n",
    ")"
   ]
  },
  {
   "cell_type": "markdown",
   "id": "b5cba9c5",
   "metadata": {},
   "source": [
    "#### Misc"
   ]
  },
  {
   "cell_type": "code",
   "execution_count": 8,
   "id": "a2133e10",
   "metadata": {},
   "outputs": [],
   "source": [
    "model.dec = pyo.Param(\n",
    "    initialize=discharge_ener_cap,\n",
    "    doc='discharge/battery energy capacity (kWh)'\n",
    ")\n",
    "model.eff_in = pyo.Param(\n",
    "    initialize=eff_in,\n",
    "    doc='AC to DC charging efficiency (fraction)'\n",
    ")\n",
    "model.eff_out = pyo.Param(\n",
    "    initialize=eff_out,\n",
    "    doc='DC to AC discharging efficiency (fraction)'\n",
    ")\n",
    "model.mcp = pyo.Param(\n",
    "    initialize=max_charge_power,\n",
    "    doc='max charging power (kW)'\n",
    ")\n",
    "model.mdp = pyo.Param(\n",
    "    initialize=max_discharge_power,\n",
    "    doc='max discharging power (kW)'\n",
    ")\n",
    "model.mdd = pyo.Param(\n",
    "    initialize=max_daily_discharge,\n",
    "    doc='max daily discharged energy (kWh)'\n",
    ")\n",
    "model.res = pyo.Param(\n",
    "    initialize=resolution,\n",
    "    doc='model resolution (h)'\n",
    ")\n",
    "model.soc_init = pyo.Param(\n",
    "    initialize=state_of_charge_init,\n",
    "    doc='initial battery state of charge (fraction)'\n",
    ")"
   ]
  },
  {
   "cell_type": "markdown",
   "id": "0419fad3",
   "metadata": {},
   "source": [
    "### Variables"
   ]
  },
  {
   "cell_type": "code",
   "execution_count": 9,
   "id": "9aed3957",
   "metadata": {},
   "outputs": [],
   "source": [
    "model.state_of_charge = pyo.Var(\n",
    "    model.samples, \n",
    "    bounds=(1 - depth_of_discharge, 1), \n",
    "    initialize=0,\n",
    "    doc='battery state of charge (fraction)'\n",
    ")"
   ]
  },
  {
   "cell_type": "code",
   "execution_count": 10,
   "id": "6a261476",
   "metadata": {},
   "outputs": [],
   "source": [
    "model.power_out = pyo.Var(\n",
    "    model.samples, \n",
    "    bounds=(min_discharge_power, max_discharge_power),\n",
    "    doc='discharged power (kW)'\n",
    ")"
   ]
  },
  {
   "cell_type": "code",
   "execution_count": 11,
   "id": "5f415cc5",
   "metadata": {},
   "outputs": [],
   "source": [
    "model.power_in = pyo.Var(\n",
    "    model.samples, \n",
    "    bounds=(min_charge_power, max_charge_power),\n",
    "    doc='charged power (kW)'\n",
    ")"
   ]
  },
  {
   "cell_type": "code",
   "execution_count": 12,
   "id": "a3f4cdd3",
   "metadata": {},
   "outputs": [],
   "source": [
    "model.profit = pyo.Var(\n",
    "    within=pyo.Reals,\n",
    "    doc='total profit ($)'\n",
    ")"
   ]
  },
  {
   "cell_type": "code",
   "execution_count": 13,
   "id": "39b33a20",
   "metadata": {},
   "outputs": [],
   "source": [
    "model.is_charging = pyo.Var(\n",
    "    model.samples, \n",
    "    within=pyo.Binary,\n",
    "    doc='charging indicator (0/1)'\n",
    ")"
   ]
  },
  {
   "cell_type": "code",
   "execution_count": 14,
   "id": "830eed3e",
   "metadata": {},
   "outputs": [],
   "source": [
    "model.is_discharging = pyo.Var(\n",
    "    model.samples, \n",
    "    within=pyo.Binary,\n",
    "    doc='discharging indicator (0/1)'\n",
    ")"
   ]
  },
  {
   "cell_type": "markdown",
   "id": "84eb144c",
   "metadata": {},
   "source": [
    "### Constraints"
   ]
  },
  {
   "cell_type": "code",
   "execution_count": 15,
   "id": "7d9fe284",
   "metadata": {},
   "outputs": [],
   "source": [
    "model.con1 = pyo.Constraint(\n",
    "    rule=expressions.objective,\n",
    "    doc='profit calculation'\n",
    ")"
   ]
  },
  {
   "cell_type": "code",
   "execution_count": 16,
   "id": "2a23a53b",
   "metadata": {},
   "outputs": [],
   "source": [
    "model.con2 = pyo.Constraint(\n",
    "    model.samples,\n",
    "    rule=expressions.charge_limit,\n",
    "    doc='enforce maximum charging power limit'\n",
    ")"
   ]
  },
  {
   "cell_type": "code",
   "execution_count": 17,
   "id": "72ae3ee8",
   "metadata": {},
   "outputs": [],
   "source": [
    "model.con3 = pyo.Constraint(\n",
    "    model.samples,\n",
    "    rule=expressions.discharge_limit,\n",
    "    doc='enforce maximum discharging power limit'\n",
    ")"
   ]
  },
  {
   "cell_type": "code",
   "execution_count": 18,
   "id": "3e2af776",
   "metadata": {},
   "outputs": [],
   "source": [
    "model.con4 = pyo.Constraint(\n",
    "    expr=expressions.daily_discharge_limit,\n",
    "    doc='enforce daily discharge limit'\n",
    ")"
   ]
  },
  {
   "cell_type": "code",
   "execution_count": 19,
   "id": "c4dbdb7d",
   "metadata": {},
   "outputs": [],
   "source": [
    "model.con5 = pyo.Constraint(\n",
    "    model.samples, \n",
    "    rule=expressions.energy_balance,\n",
    "    doc='enforce energy balance'\n",
    ")"
   ]
  },
  {
   "cell_type": "code",
   "execution_count": 20,
   "id": "ecf272a2",
   "metadata": {},
   "outputs": [],
   "source": [
    "model.con6 = pyo.Constraint(\n",
    "    model.samples,\n",
    "    rule=expressions.only_one_op,\n",
    "    doc='prevent charging and discharging at the same time'\n",
    ")"
   ]
  },
  {
   "cell_type": "markdown",
   "id": "95eb1031",
   "metadata": {},
   "source": [
    "### Objective"
   ]
  },
  {
   "cell_type": "code",
   "execution_count": 21,
   "id": "c69dfc53",
   "metadata": {},
   "outputs": [],
   "source": [
    "model.obj = pyo.Objective(\n",
    "    expr=model.profit, \n",
    "    sense=pyo.maximize,\n",
    "    doc='maximize profit'\n",
    ")"
   ]
  },
  {
   "cell_type": "markdown",
   "id": "1a10ac4f",
   "metadata": {},
   "source": [
    "### Solution"
   ]
  },
  {
   "cell_type": "code",
   "execution_count": 22,
   "id": "233c37ce",
   "metadata": {},
   "outputs": [
    {
     "name": "stdout",
     "output_type": "stream",
     "text": [
      "CPU times: total: 46.9 ms\n",
      "Wall time: 89.6 ms\n"
     ]
    }
   ],
   "source": [
    "%%time\n",
    "solver = pyo.SolverFactory(solver)\n",
    "res = solver.solve(model)"
   ]
  },
  {
   "cell_type": "markdown",
   "id": "711661ab",
   "metadata": {},
   "source": [
    "## Results"
   ]
  },
  {
   "cell_type": "code",
   "execution_count": 23,
   "id": "78f76cfb",
   "metadata": {},
   "outputs": [
    {
     "name": "stdout",
     "output_type": "stream",
     "text": [
      "# ==========================================================\n",
      "# = Solver Results                                         =\n",
      "# ==========================================================\n",
      "# ----------------------------------------------------------\n",
      "#   Problem Information\n",
      "# ----------------------------------------------------------\n",
      "Problem: \n",
      "- Name: unknown\n",
      "  Lower bound: 123.336601851852\n",
      "  Upper bound: 123.336601851852\n",
      "  Number of objectives: 1\n",
      "  Number of constraints: 195\n",
      "  Number of variables: 242\n",
      "  Number of nonzeros: 625\n",
      "  Sense: maximize\n",
      "# ----------------------------------------------------------\n",
      "#   Solver Information\n",
      "# ----------------------------------------------------------\n",
      "Solver: \n",
      "- Status: ok\n",
      "  Termination condition: optimal\n",
      "  Statistics: \n",
      "    Branch and bound: \n",
      "      Number of bounded subproblems: 1\n",
      "      Number of created subproblems: 1\n",
      "  Error rc: 0\n",
      "  Time: 0.04356527328491211\n",
      "# ----------------------------------------------------------\n",
      "#   Solution Information\n",
      "# ----------------------------------------------------------\n",
      "Solution: \n",
      "- number of solutions: 0\n",
      "  number of solutions displayed: 0\n"
     ]
    }
   ],
   "source": [
    "# results summary\n",
    "res.write()"
   ]
  },
  {
   "cell_type": "code",
   "execution_count": 24,
   "id": "d7efd714",
   "metadata": {},
   "outputs": [
    {
     "name": "stdout",
     "output_type": "stream",
     "text": [
      "Revenue/turnover for the day is $151.31.\n",
      "Costs for the day are $27.97.\n",
      "Profit for the day is $123.34.\n"
     ]
    }
   ],
   "source": [
    "revenue = pyo.value(sum(\n",
    "    model.power_out[t] * eff_out * c[t] for t in model.samples))\n",
    "cost = pyo.value(sum(\n",
    "    model.power_in[t] / eff_in * c[t] for t in model.samples))\n",
    "profit = pyo.value(model.profit)\n",
    "print('Revenue/turnover for the day is ${:.2f}.'.format(revenue))\n",
    "print('Costs for the day are ${:.2f}.'.format(cost))\n",
    "print('Profit for the day is ${:.2f}.'.format(profit))"
   ]
  },
  {
   "cell_type": "code",
   "execution_count": 25,
   "id": "f60ec4e3",
   "metadata": {},
   "outputs": [
    {
     "name": "stdout",
     "output_type": "stream",
     "text": [
      "LBMP at each timestamp:\n",
      "Time Stamp\n",
      "2022-08-06 00:30:00    0.094713\n",
      "2022-08-06 01:00:00    0.089380\n",
      "2022-08-06 01:30:00    0.081862\n",
      "2022-08-06 02:00:00    0.078428\n",
      "2022-08-06 02:30:00    0.089842\n",
      "2022-08-06 03:00:00    0.085545\n",
      "2022-08-06 03:30:00    0.087460\n",
      "2022-08-06 04:00:00    0.083198\n",
      "2022-08-06 04:30:00    0.084745\n",
      "2022-08-06 05:00:00    0.081065\n",
      "2022-08-06 05:30:00    0.085153\n",
      "2022-08-06 06:00:00    0.080140\n",
      "2022-08-06 06:30:00    0.064920\n",
      "2022-08-06 07:00:00    0.071532\n",
      "2022-08-06 07:30:00    0.061592\n",
      "2022-08-06 08:00:00    0.061438\n",
      "2022-08-06 08:30:00    0.063818\n",
      "2022-08-06 09:00:00    0.066528\n",
      "2022-08-06 09:30:00    0.081670\n",
      "2022-08-06 10:00:00    0.100718\n",
      "2022-08-06 10:30:00    0.100278\n",
      "2022-08-06 11:00:00    0.105920\n",
      "2022-08-06 11:30:00    0.123553\n",
      "2022-08-06 12:00:00    0.123640\n",
      "2022-08-06 12:30:00    0.124618\n",
      "2022-08-06 13:00:00    0.129742\n",
      "2022-08-06 13:30:00    0.130053\n",
      "2022-08-06 14:00:00    0.153170\n",
      "2022-08-06 14:30:00    0.158213\n",
      "2022-08-06 15:00:00    0.164915\n",
      "2022-08-06 15:30:00    0.136923\n",
      "2022-08-06 16:00:00    0.149250\n",
      "2022-08-06 16:30:00    0.376692\n",
      "2022-08-06 17:00:00    0.177017\n",
      "2022-08-06 17:30:00    0.230580\n",
      "2022-08-06 18:00:00    0.137607\n",
      "2022-08-06 18:30:00    0.185445\n",
      "2022-08-06 19:00:00    0.429828\n",
      "2022-08-06 19:30:00    0.565015\n",
      "2022-08-06 20:00:00    0.196175\n",
      "2022-08-06 20:30:00    0.174665\n",
      "2022-08-06 21:00:00    0.194103\n",
      "2022-08-06 21:30:00    0.147380\n",
      "2022-08-06 22:00:00    0.135232\n",
      "2022-08-06 22:30:00    0.103680\n",
      "2022-08-06 23:00:00    0.118295\n",
      "2022-08-06 23:30:00    0.105139\n",
      "2022-08-07 00:00:00    0.101143\n",
      "Freq: 30T, Name: LBMP in $/kWh, dtype: float64\n"
     ]
    }
   ],
   "source": [
    "print('LBMP at each timestamp:')\n",
    "print(c)"
   ]
  },
  {
   "cell_type": "code",
   "execution_count": 26,
   "id": "779cfda1",
   "metadata": {},
   "outputs": [
    {
     "name": "stdout",
     "output_type": "stream",
     "text": [
      "Revenue/Cost over the day:\n",
      "00:30:00 $0.00\n",
      "01:00:00 $0.00\n",
      "01:30:00 $0.00\n",
      "02:00:00 $0.00\n",
      "02:30:00 $0.00\n",
      "03:00:00 $0.00\n",
      "03:30:00 $0.00\n",
      "04:00:00 $0.00\n",
      "04:30:00 $0.00\n",
      "05:00:00 $0.00\n",
      "05:30:00 $0.00\n",
      "06:00:00 $0.00\n",
      "06:30:00 $-7.21\n",
      "07:00:00 $0.00\n",
      "07:30:00 $-6.84\n",
      "08:00:00 $-6.83\n",
      "08:30:00 $-7.09\n",
      "09:00:00 $0.00\n",
      "09:30:00 $0.00\n",
      "10:00:00 $0.00\n",
      "10:30:00 $0.00\n",
      "11:00:00 $0.00\n",
      "11:30:00 $0.00\n",
      "12:00:00 $0.00\n",
      "12:30:00 $0.00\n",
      "13:00:00 $0.00\n",
      "13:30:00 $0.00\n",
      "14:00:00 $0.00\n",
      "14:30:00 $0.00\n",
      "15:00:00 $0.00\n",
      "15:30:00 $0.00\n",
      "16:00:00 $0.00\n",
      "16:30:00 $35.58\n",
      "17:00:00 $0.00\n",
      "17:30:00 $21.78\n",
      "18:00:00 $0.00\n",
      "18:30:00 $0.00\n",
      "19:00:00 $40.59\n",
      "19:30:00 $53.36\n",
      "20:00:00 $0.00\n",
      "20:30:00 $0.00\n",
      "21:00:00 $0.00\n",
      "21:30:00 $0.00\n",
      "22:00:00 $0.00\n",
      "22:30:00 $0.00\n",
      "23:00:00 $0.00\n",
      "23:30:00 $0.00\n",
      "00:00:00 $0.00\n"
     ]
    }
   ],
   "source": [
    "print('Revenue/Cost over the day:')\n",
    "for t in model.samples:\n",
    "    ts = sample_to_time(t, resolution)\n",
    "    cost = pyo.value(model.power_in[t]) / eff_in * c[t]\n",
    "    revenue = pyo.value(model.power_out[t]) * eff_out * c[t]\n",
    "    print(ts, '${:.2f}'.format(revenue - cost))"
   ]
  },
  {
   "cell_type": "code",
   "execution_count": 27,
   "id": "500efa21",
   "metadata": {},
   "outputs": [
    {
     "name": "stdout",
     "output_type": "stream",
     "text": [
      "Discharged energy throughput for the day is 400.0 kWh\n"
     ]
    }
   ],
   "source": [
    "discharged_throughput = pyo.value(sum(model.power_out[t] for t in model.samples))\n",
    "print('Discharged energy throughput for the day is {} kWh'.format(discharged_throughput))"
   ]
  },
  {
   "cell_type": "code",
   "execution_count": 28,
   "id": "8882e1aa",
   "metadata": {},
   "outputs": [
    {
     "name": "stdout",
     "output_type": "stream",
     "text": [
      "Energy of the battery over the day (kWh):\n",
      "00:30:00 0.00\n",
      "01:00:00 0.00\n",
      "01:30:00 0.00\n",
      "02:00:00 0.00\n",
      "02:30:00 0.00\n",
      "03:00:00 0.00\n",
      "03:30:00 0.00\n",
      "04:00:00 0.00\n",
      "04:30:00 0.00\n",
      "05:00:00 0.00\n",
      "05:30:00 0.00\n",
      "06:00:00 0.00\n",
      "06:30:00 50.00\n",
      "07:00:00 50.00\n",
      "07:30:00 100.00\n",
      "08:00:00 150.00\n",
      "08:30:00 200.00\n",
      "09:00:00 200.00\n",
      "09:30:00 200.00\n",
      "10:00:00 200.00\n",
      "10:30:00 200.00\n",
      "11:00:00 200.00\n",
      "11:30:00 200.00\n",
      "12:00:00 200.00\n",
      "12:30:00 200.00\n",
      "13:00:00 200.00\n",
      "13:30:00 200.00\n",
      "14:00:00 200.00\n",
      "14:30:00 200.00\n",
      "15:00:00 200.00\n",
      "15:30:00 200.00\n",
      "16:00:00 200.00\n",
      "16:30:00 150.00\n",
      "17:00:00 150.00\n",
      "17:30:00 100.00\n",
      "18:00:00 100.00\n",
      "18:30:00 100.00\n",
      "19:00:00 50.00\n",
      "19:30:00 0.00\n",
      "20:00:00 0.00\n",
      "20:30:00 0.00\n",
      "21:00:00 0.00\n",
      "21:30:00 0.00\n",
      "22:00:00 0.00\n",
      "22:30:00 0.00\n",
      "23:00:00 0.00\n",
      "23:30:00 0.00\n",
      "00:00:00 0.00\n"
     ]
    }
   ],
   "source": [
    "print('Energy of the battery over the day (kWh):')\n",
    "for t in model.samples:\n",
    "    ts = sample_to_time(t, resolution)\n",
    "    energy_level = pyo.value(model.state_of_charge[t]) * discharge_ener_cap\n",
    "    print(ts, '{:.2f}'.format(energy_level))"
   ]
  },
  {
   "cell_type": "code",
   "execution_count": 29,
   "id": "2a83e5f6",
   "metadata": {},
   "outputs": [
    {
     "name": "stdout",
     "output_type": "stream",
     "text": [
      "Net power of the battery over the day (kW):\n",
      "00:30:00 0.00\n",
      "01:00:00 0.00\n",
      "01:30:00 0.00\n",
      "02:00:00 0.00\n",
      "02:30:00 0.00\n",
      "03:00:00 0.00\n",
      "03:30:00 0.00\n",
      "04:00:00 0.00\n",
      "04:30:00 0.00\n",
      "05:00:00 0.00\n",
      "05:30:00 0.00\n",
      "06:00:00 0.00\n",
      "06:30:00 100.00\n",
      "07:00:00 0.00\n",
      "07:30:00 100.00\n",
      "08:00:00 100.00\n",
      "08:30:00 100.00\n",
      "09:00:00 0.00\n",
      "09:30:00 0.00\n",
      "10:00:00 0.00\n",
      "10:30:00 0.00\n",
      "11:00:00 0.00\n",
      "11:30:00 0.00\n",
      "12:00:00 0.00\n",
      "12:30:00 0.00\n",
      "13:00:00 0.00\n",
      "13:30:00 0.00\n",
      "14:00:00 0.00\n",
      "14:30:00 0.00\n",
      "15:00:00 0.00\n",
      "15:30:00 0.00\n",
      "16:00:00 0.00\n",
      "16:30:00 -100.00\n",
      "17:00:00 0.00\n",
      "17:30:00 -100.00\n",
      "18:00:00 0.00\n",
      "18:30:00 0.00\n",
      "19:00:00 -100.00\n",
      "19:30:00 -100.00\n",
      "20:00:00 0.00\n",
      "20:30:00 0.00\n",
      "21:00:00 0.00\n",
      "21:30:00 0.00\n",
      "22:00:00 0.00\n",
      "22:30:00 0.00\n",
      "23:00:00 0.00\n",
      "23:30:00 0.00\n",
      "00:00:00 0.00\n"
     ]
    }
   ],
   "source": [
    "print('Net power of the battery over the day (kW):')\n",
    "for t in model.samples:\n",
    "    ts = sample_to_time(t, resolution)\n",
    "    net_power = pyo.value(model.power_in[t] - model.power_out[t])\n",
    "    print(ts, '{:.2f}'.format(net_power))"
   ]
  }
 ],
 "metadata": {
  "kernelspec": {
   "display_name": "Python 3 (ipykernel)",
   "language": "python",
   "name": "python3"
  },
  "language_info": {
   "codemirror_mode": {
    "name": "ipython",
    "version": 3
   },
   "file_extension": ".py",
   "mimetype": "text/x-python",
   "name": "python",
   "nbconvert_exporter": "python",
   "pygments_lexer": "ipython3",
   "version": "3.9.12"
  }
 },
 "nbformat": 4,
 "nbformat_minor": 5
}
